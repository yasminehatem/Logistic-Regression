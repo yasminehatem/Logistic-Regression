{
 "cells": [
  {
   "cell_type": "code",
   "execution_count": 1,
   "metadata": {},
   "outputs": [],
   "source": [
    "import numpy as np\n",
    "import matplotlib.pyplot as plt\n",
    "from mpl_toolkits.mplot3d import Axes3D\n",
    "import csv\n",
    "import math\n",
    "\n",
    "import pandas as pd\n",
    "\n",
    "from scipy.optimize import minimize\n",
    "import sklearn\n",
    "from sklearn.model_selection import train_test_split"
   ]
  },
  {
   "cell_type": "code",
   "execution_count": 2,
   "metadata": {},
   "outputs": [],
   "source": [
    "def sigmoid(x):\n",
    "    return 1/(1+np.exp(-x))"
   ]
  },
  {
   "cell_type": "code",
   "execution_count": 3,
   "metadata": {},
   "outputs": [],
   "source": [
    "def gradientdescent(x,y,n,alpha):\n",
    "    weights=np.ones((x.shape[1],1))\n",
    "    #print(weights.shape)\n",
    "    #print(weights)\n",
    "    for i in range(n):\n",
    "        z = np.dot(x,weights)\n",
    "        a = sigmoid(z)\n",
    "        #print(i)\n",
    "        \n",
    "        \n",
    "        \"\"\"print(\"length of a\")\n",
    "        print(len(a))\n",
    "        print(\"length of y train\")\n",
    "        print(len(y))\n",
    "        print(\"length of x train\")\n",
    "        print(x.shape[0])\n",
    "        print(x.shape)\n",
    "        print(a.shape)\n",
    "        print(y.shape)\n",
    "        print(a[0])\n",
    "        print(y[0])\n",
    "        print(a-y)\"\"\"\n",
    "        \n",
    "        \n",
    "        \n",
    "        \n",
    "        \n",
    "        \n",
    "        weights=weights-alpha*(x.transpose().dot(a-y))\n",
    "        \n",
    "        #print(weights)\n",
    "        #print(weights.shape)\n",
    "    \n",
    "    return weights"
   ]
  },
  {
   "cell_type": "code",
   "execution_count": null,
   "metadata": {},
   "outputs": [],
   "source": []
  },
  {
   "cell_type": "code",
   "execution_count": 4,
   "metadata": {},
   "outputs": [],
   "source": [
    "def classify(Data,w):\n",
    "    pred = []\n",
    "    z = np.dot(w.transpose(),Data.transpose())\n",
    "    a = sigmoid(z)\n",
    "    for i in range(0,len(a[0])):\n",
    "        if (a[0][i] > 0.5): \n",
    "            pred.append(1)\n",
    "        elif (a[0][i] <= 0.5):\n",
    "            pred.append(0)\n",
    "        #print(i)\n",
    "            \n",
    "    \n",
    "    return pred\n",
    "# threshold default , lsa hashof el roc wl auc w keda"
   ]
  },
  {
   "cell_type": "code",
   "execution_count": 50,
   "metadata": {},
   "outputs": [
    {
     "name": "stdout",
     "output_type": "stream",
     "text": [
      "(614, 9)\n",
      "(614, 1)\n"
     ]
    }
   ],
   "source": [
    "#read data\n",
    "data = pd.read_csv('diabetes.csv')\n",
    "data.insert(0,'ones',1) #bias always 1 \n",
    "x=data.iloc[:,:9]\n",
    "#y=data.iloc[:,9]\n",
    "y=data[[\"Outcome\"]].values\n",
    "#print(x.shape)\n",
    "#print(y.shape)\n",
    "X_train, X_test, y_train, y_test = train_test_split(x, y, test_size=0.2)\n",
    "#print(len(y_train))\n",
    "#print(len(y_test))\n",
    "print(X_train.shape)\n",
    "print(y_train.shape)\n",
    "\n",
    "\n"
   ]
  },
  {
   "cell_type": "code",
   "execution_count": 51,
   "metadata": {
    "scrolled": true
   },
   "outputs": [],
   "source": [
    "#training the data set\n",
    "alpha=0.02\n",
    "iterNo=1500\n",
    "#print(np.shape(X_train)[1])\n",
    "#print(X_train)\n",
    "\n",
    "w=gradientdescent(X_train,y_train,iterNo,alpha)\n",
    "\n"
   ]
  },
  {
   "cell_type": "code",
   "execution_count": 52,
   "metadata": {},
   "outputs": [
    {
     "name": "stdout",
     "output_type": "stream",
     "text": [
      "                                    0\n",
      "ones                      -688.724763\n",
      "Pregnancies               2254.296201\n",
      "Glucose                     95.601417\n",
      "BloodPressure            -1326.908889\n",
      "SkinThickness             -273.885525\n",
      "Insulin                   -335.686943\n",
      "BMI                        -72.491105\n",
      "DiabetesPedigreeFunction   108.872038\n",
      "Age                       -312.304353\n"
     ]
    }
   ],
   "source": [
    "print(w)"
   ]
  },
  {
   "cell_type": "code",
   "execution_count": 53,
   "metadata": {},
   "outputs": [
    {
     "name": "stdout",
     "output_type": "stream",
     "text": [
      "Accuracy = 69.48051948051948%\n"
     ]
    }
   ],
   "source": [
    "#Test Result\n",
    "accuracy=0\n",
    "result=classify(X_test,w)\n",
    "#print(len(y_test))\n",
    "#print(len(result))\n",
    "for i in range(len(y_test)):\n",
    "    if(y_test[i] == result[i] ):\n",
    "        accuracy = accuracy+1\n",
    "accuracy = accuracy/len(y_test)\n",
    "print('Accuracy = ' + str(accuracy * 100) + '%')\n"
   ]
  }
 ],
 "metadata": {
  "kernelspec": {
   "display_name": "Python 3",
   "language": "python",
   "name": "python3"
  },
  "language_info": {
   "codemirror_mode": {
    "name": "ipython",
    "version": 3
   },
   "file_extension": ".py",
   "mimetype": "text/x-python",
   "name": "python",
   "nbconvert_exporter": "python",
   "pygments_lexer": "ipython3",
   "version": "3.7.4"
  }
 },
 "nbformat": 4,
 "nbformat_minor": 2
}
